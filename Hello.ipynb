{
 "cells": [
  {
   "cell_type": "code",
   "execution_count": 5,
   "metadata": {},
   "outputs": [
    {
     "data": {
      "text/plain": [
       "array([[0.87946721, 0.50493063, 0.13782347, 0.48840983],\n       [0.50838055, 0.80761706, 0.02185112, 0.42864488],\n       [0.72603624, 0.0607603 , 0.96241574, 0.71433899]])"
      ]
     },
     "execution_count": 5,
     "metadata": {},
     "output_type": "execute_result"
    }
   ],
   "source": [
    "import numpy as np\n",
    "\n",
    "np.random.rand(3, 4)"
   ]
  },
  {
   "cell_type": "code",
   "execution_count": 6,
   "metadata": {},
   "outputs": [
    {
     "name": "stdout",
     "output_type": "stream",
     "text": [
      "[[0.10001438 0.40710934 0.30644926 0.91893113]\n [0.79923528 0.55344957 0.39429544 0.55206534]\n [0.32404808 0.55360258 0.43441295 0.37961915]]\n평균 5.666666666666667\n합계 34.0\n최대값 8.6\n최소값 3.0\n분산 3.465555555555555\n표준편차 1.8616002673924268\n"
     ]
    }
   ],
   "source": [
    "import numpy as np\n",
    "\n",
    "data = np.random.rand(3, 4) # 3x4 행렬에 난수 생성\n",
    "print(data)\n",
    "\n",
    "list = [3, 4.1, 5, 6.3, 7, 8.6] # 단일 리스트\n",
    "arr = np.array(list)\n",
    "\n",
    "print('평균', arr.mean())\n",
    "print('합계', arr.sum())\n",
    "print('최대값', arr.max())\n",
    "print('최소값', arr.min())\n",
    "print('분산', arr.var())\n",
    "print('표준편차', arr.std())"
   ]
  },
  {
   "cell_type": "code",
   "execution_count": null,
   "metadata": {},
   "outputs": [],
   "source": []
  }
 ],
 "metadata": {
  "kernelspec": {
   "display_name": "Python 2",
   "language": "python",
   "name": "python2"
  },
  "language_info": {
   "codemirror_mode": {
    "name": "ipython",
    "version": 2
   },
   "file_extension": ".py",
   "mimetype": "text/x-python",
   "name": "python",
   "nbconvert_exporter": "python",
   "pygments_lexer": "ipython2",
   "version": "2.7.6"
  }
 },
 "nbformat": 4,
 "nbformat_minor": 0
}
