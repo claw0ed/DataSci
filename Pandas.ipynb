{
 "cells": [
  {
   "cell_type": "code",
   "execution_count": 1,
   "metadata": {
    "collapsed": true
   },
   "outputs": [
    {
     "name": "stdout",
     "output_type": "stream",
     "text": [
      "    반   이름   국어  영어  수학  과학   총점     평균\n0   1  성춘향   67  87  90  98  342  85.50\n1   1  이몽룡   45  45  56  98  244  61.00\n2   1  향단이   95  59  96  88  338  84.50\n3   1   방자   65  94  89  98  346  86.50\n4   1   월매   45  65  78  98  286  71.50\n5   1  변학도   78  76  98  89  341  85.25\n6   2  홍길동   87  67  65  56  275  68.75\n7   2  임꺽정   89  98  78  78  343  85.75\n8   2  전우치  100  78  56  65  299  74.75\n9   2  일지매   99  89  87  87  362  90.50\n10  2   심청   98  45  56  54  253  63.25\n11  2   콩쥐   65  89  87  78  319  79.75\n"
     ]
    }
   ],
   "source": [
    "# Pandas\n",
    "# 효과적인 데이터 분석 기능을 제공하는 패키지\n",
    "# R에서 자주사용하는 DataFrame을 파이썬에서도 사용할 수 있게 함\n",
    "\n",
    "import numpy as np\n",
    "import pandas as pd\n",
    "import matplotlib as plt\n",
    "import scipy.stats as stats\n",
    "\n",
    "df = pd.read_excel('c:/Java/sungjuk.xlsx')\n",
    "# xlrd 패키지 설치 필요! - 엑셀 파일을 읽어 dataframe 으로 생성\n",
    "\n",
    "#총점, 평균 계산후 df 에 추가\n",
    "subj = ['국어', '영어', '수학', '과학']\n",
    "df['총점'] = df[subj].sum(axis=1)\n",
    "df['평균'] = df['총점'] / len(subj)\n",
    "df.sort_values(['평균'], ascending=[False]) # 평균으로 정렬\n",
    "\n",
    "print(df)"
   ]
  },
  {
   "cell_type": "code",
   "execution_count": 3,
   "metadata": {},
   "outputs": [
    {
     "data": {
      "text/plain": [
       "<matplotlib.axes._subplots.AxesSubplot at 0x258f12fa588>"
      ]
     },
     "execution_count": 3,
     "metadata": {},
     "output_type": "execute_result"
    },
    {
     "data": {
      "image/png": "[encoded data removed]",
      "text/plain": [
       "<matplotlib.figure.Figure at 0x258f1190c88>"
      ]
     },
     "metadata": {},
     "output_type": "display_data"
    }
   ],
   "source": [
    "import matplotlib as mpl\n",
    "# font_name = mpl.font_manager.FontProperties(\n",
    "#     fname='c:/windows/fonts/malgun.ttf').get_name()\n",
    "# mpl.rc('font', family=font_name) # 그래프 한글 설정\n",
    "\n",
    "mpl.rc('font', family='Malgun Gothic') # 그래프 한글 설정\n",
    "\n",
    "sj = df.sort_values(['평균'], ascending=[False])\n",
    "sj.index = sj['이름']\n",
    "sj['평균'].plot(kind='bar', figsize=(8,4))"
   ]
  },
  {
   "cell_type": "code",
   "execution_count": null,
   "metadata": {},
   "outputs": [],
   "source": []
  }
 ],
 "metadata": {
  "kernelspec": {
   "display_name": "Python 2",
   "language": "python",
   "name": "python2"
  },
  "language_info": {
   "codemirror_mode": {
    "name": "ipython",
    "version": 2
   },
   "file_extension": ".py",
   "mimetype": "text/x-python",
   "name": "python",
   "nbconvert_exporter": "python",
   "pygments_lexer": "ipython2",
   "version": "2.7.6"
  }
 },
 "nbformat": 4,
 "nbformat_minor": 0
}
